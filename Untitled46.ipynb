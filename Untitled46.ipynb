{
  "nbformat": 4,
  "nbformat_minor": 0,
  "metadata": {
    "colab": {
      "provenance": [],
      "include_colab_link": true
    },
    "kernelspec": {
      "name": "python3",
      "display_name": "Python 3"
    },
    "language_info": {
      "name": "python"
    }
  },
  "cells": [
    {
      "cell_type": "markdown",
      "metadata": {
        "id": "view-in-github",
        "colab_type": "text"
      },
      "source": [
        "<a href=\"https://colab.research.google.com/github/DKarmakar2413/YTImeline/blob/main/Untitled46.ipynb\" target=\"_parent\"><img src=\"https://colab.research.google.com/assets/colab-badge.svg\" alt=\"Open In Colab\"/></a>"
      ]
    },
    {
      "cell_type": "code",
      "execution_count": null,
      "metadata": {
        "id": "bsmo0bexwegz"
      },
      "outputs": [],
      "source": []
    },
    {
      "cell_type": "markdown",
      "source": [
        "**Logistic Regression**\n",
        "\n",
        "Logistic Regression is a supervised machine learning algorithm which is used for classification problem . Unlike linear regression (Which predicts continous outcome) , logistic regression is used to predict categorical outcome- like true or false, yes or no, 0 and 1....\n",
        "\n",
        "sigmoid function = 1/(1+e^-x)"
      ],
      "metadata": {
        "id": "aBv9sh2Cwsh0"
      }
    },
    {
      "cell_type": "code",
      "source": [
        "import numpy as np\n",
        "import matplotlib.pyplot as plt\n",
        "from sklearn.model_selection import train_test_split\n",
        "from sklearn.linear_model import LogisticRegression\n",
        "from sklearn.metrics import accuracy_score\n",
        "# height,weight\n",
        "x = np.array([[5.4,45],[5.3,47],[4,49],[5,45],[6,56],[6.2,67],[6.1,50],[5.11,49]])\n",
        "\n",
        "y = np.array([0,0,0,0,1,1,1,1])  # 0 -> Cat , 1 -> Dog\n",
        "\n",
        "#Split data into training and testing data\n",
        "x_train,x_test,y_train,y_test = train_test_split(x,y,test_size=0.25,random_state=42)\n",
        "\n",
        "\n",
        "#Initialize the model\n",
        "model = LogisticRegression()\n",
        "\n",
        "#Train the model\n",
        "model.fit(x_train,y_train)\n",
        "\n",
        "#Make predictions\n",
        "y_pred = model.predict(x_test)\n",
        "\n",
        "#Evaluate the model\n",
        "accuracy = accuracy_score(y_test,y_pred)\n",
        "print(f\"accuracy : {accuracy*100:.2f}%\")\n",
        "\n",
        "#Visualizing the data and decision boundary\n",
        "def visualize_data_and_boundary(x,y,model):\n",
        "  x_min,x_max = x[:,0].min()-1,x[:,0].max()+1\n",
        "  y_min,y_max = x[:,1].min()-1,x[:,1].max()+1\n",
        "\n",
        "  xx,yy = np.meshgrid(np.arange(x_min,x_max,0.1),\n",
        "                      np.arange(y_min,y_max,0.1))\n",
        "\n",
        "  z = model.predict(np.c_[xx.ravel(),yy.ravel()])\n",
        "  z = z.reshape(xx.shape)\n",
        "\n",
        "  plt.contourf(xx,yy,z,alpha=0.8)\n",
        "  plt.scatter(x[:,0],x[:,1],c=y,edgecolors = 'g',marker = 'o',s=50)\n",
        "  plt.xlabel('Height')\n",
        "  plt.ylabel('Weight')\n",
        "  plt.title('Logistic Regression')\n",
        "  plt.show()\n",
        "\n",
        "visualize_data_and_boundary(x,y,model)"
      ],
      "metadata": {
        "colab": {
          "base_uri": "https://localhost:8080/",
          "height": 489
        },
        "id": "Rn8KKNFbyBiW",
        "outputId": "c2713084-ad2f-4d47-f01e-9dd1bc2672f7"
      },
      "execution_count": null,
      "outputs": [
        {
          "output_type": "stream",
          "name": "stdout",
          "text": [
            "accuracy : 100.00%\n"
          ]
        },
        {
          "output_type": "display_data",
          "data": {
            "text/plain": [
              "<Figure size 640x480 with 1 Axes>"
            ],
            "image/png": "[encoded data removed]"
          },
          "metadata": {}
        }
      ]
    },
    {
      "cell_type": "code",
      "source": [
        "new_data = np.array([[5.4,48]])\n",
        "prediction = model.predict(new_data)\n",
        "print(prediction)\n",
        "if prediction[0] == 0:\n",
        "  print(\"Green\")\n",
        "else:\n",
        "  print(\"Red\")"
      ],
      "metadata": {
        "colab": {
          "base_uri": "https://localhost:8080/"
        },
        "id": "lahWx2xl0xk9",
        "outputId": "2e1a2f61-50bd-4484-edc6-a6173770a047"
      },
      "execution_count": null,
      "outputs": [
        {
          "output_type": "stream",
          "name": "stdout",
          "text": [
            "[0]\n",
            "Green\n"
          ]
        }
      ]
    },
    {
      "cell_type": "markdown",
      "source": [
        "**Unsupervised Learning**\n",
        "\n",
        "It is a type of ml where model is trained using the unlabelled data."
      ],
      "metadata": {
        "id": "hFInNsChBzUE"
      }
    },
    {
      "cell_type": "code",
      "source": [
        "import numpy as np\n",
        "from sklearn.cluster import KMeans\n",
        "\n",
        "x = np.array([[150,8],[160,9],[140,6],[145,7],[300,6],[320,8],[315,7],[310,9]])\n",
        "#Initializes the kmeans model\n",
        "kmeans = KMeans(n_clusters=2)\n",
        "#Trains the model\n",
        "kmeans.fit(x)\n",
        "\n",
        "#Get the cluster labels (Which cluster each point belong to)\n",
        "centers  = kmeans.cluster_centers_ #Finds out coordinates of the center of the cluster\n",
        "\n",
        "labels = kmeans.labels_\n",
        "print(\"Cluster Centers :\\n\",centers)\n",
        "print(\"Labels:\",labels)\n"
      ],
      "metadata": {
        "colab": {
          "base_uri": "https://localhost:8080/"
        },
        "id": "qgYiH_5w2TKt",
        "outputId": "bcfab8a9-5c80-49dd-810b-9c797bc668d5"
      },
      "execution_count": null,
      "outputs": [
        {
          "output_type": "stream",
          "name": "stdout",
          "text": [
            "Cluster Centers :\n",
            " [[148.75   7.5 ]\n",
            " [311.25   7.5 ]]\n",
            "Labels: [0 0 0 0 1 1 1 1]\n"
          ]
        }
      ]
    },
    {
      "cell_type": "code",
      "source": [],
      "metadata": {
        "id": "eE7V38u3ELpp"
      },
      "execution_count": null,
      "outputs": []
    }
  ]
}